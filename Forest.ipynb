{
 "cells": [
  {
   "cell_type": "markdown",
   "metadata": {},
   "source": [
    "# Mining and Classifiers"
   ]
  },
  {
   "cell_type": "code",
   "execution_count": 32,
   "metadata": {
    "tags": []
   },
   "outputs": [
    {
     "output_type": "stream",
     "name": "stdout",
     "text": [
      "[198720, 90, 'latin', 95, 0.73, 0.244, 181.988]\n\n 1\n"
     ]
    },
    {
     "output_type": "error",
     "ename": "IndexError",
     "evalue": "list index out of range",
     "traceback": [
      "\u001b[0;31m---------------------------------------------------------------------------\u001b[0m",
      "\u001b[0;31mIndexError\u001b[0m                                Traceback (most recent call last)",
      "\u001b[0;32m<ipython-input-32-6bafe3e050ef>\u001b[0m in \u001b[0;36m<module>\u001b[0;34m\u001b[0m\n\u001b[1;32m     83\u001b[0m \u001b[0mprint\u001b[0m\u001b[0;34m(\u001b[0m\u001b[0mX_train\u001b[0m\u001b[0;34m[\u001b[0m\u001b[0;36m0\u001b[0m\u001b[0;34m]\u001b[0m\u001b[0;34m)\u001b[0m\u001b[0;34m\u001b[0m\u001b[0;34m\u001b[0m\u001b[0m\n\u001b[1;32m     84\u001b[0m \u001b[0mprint\u001b[0m\u001b[0;34m(\u001b[0m\u001b[0;34m\"\\n\"\u001b[0m\u001b[0;34m,\u001b[0m \u001b[0my_train\u001b[0m\u001b[0;34m[\u001b[0m\u001b[0;36m0\u001b[0m\u001b[0;34m]\u001b[0m\u001b[0;34m)\u001b[0m\u001b[0;34m\u001b[0m\u001b[0;34m\u001b[0m\u001b[0m\n\u001b[0;32m---> 85\u001b[0;31m \u001b[0mdec_tree\u001b[0m\u001b[0;34m.\u001b[0m\u001b[0mfit\u001b[0m\u001b[0;34m(\u001b[0m\u001b[0mX_train\u001b[0m\u001b[0;34m,\u001b[0m \u001b[0my_train\u001b[0m\u001b[0;34m)\u001b[0m\u001b[0;34m\u001b[0m\u001b[0;34m\u001b[0m\u001b[0m\n\u001b[0m\u001b[1;32m     86\u001b[0m \u001b[0mprint\u001b[0m\u001b[0;34m(\u001b[0m\u001b[0mdec_tree\u001b[0m\u001b[0;34m.\u001b[0m\u001b[0mtree\u001b[0m\u001b[0;34m)\u001b[0m\u001b[0;34m\u001b[0m\u001b[0;34m\u001b[0m\u001b[0m\n\u001b[1;32m     87\u001b[0m \u001b[0;31m# y_pred_list = dec_tree.predict(X_test)\u001b[0m\u001b[0;34m\u001b[0m\u001b[0;34m\u001b[0m\u001b[0;34m\u001b[0m\u001b[0m\n",
      "\u001b[0;32m/home/CPSC322-Final-Project/mysklearn/myclassifiers.py\u001b[0m in \u001b[0;36mfit\u001b[0;34m(self, X_train, y_train)\u001b[0m\n\u001b[1;32m    392\u001b[0m         \u001b[0mavailable_attributes\u001b[0m \u001b[0;34m=\u001b[0m \u001b[0;34m[\u001b[0m\u001b[0;34m\"attr\"\u001b[0m \u001b[0;34m+\u001b[0m \u001b[0mstr\u001b[0m\u001b[0;34m(\u001b[0m\u001b[0mi\u001b[0m\u001b[0;34m)\u001b[0m \u001b[0;32mfor\u001b[0m \u001b[0mi\u001b[0m \u001b[0;32min\u001b[0m \u001b[0mrange\u001b[0m\u001b[0;34m(\u001b[0m\u001b[0mlen\u001b[0m\u001b[0;34m(\u001b[0m\u001b[0mtrain\u001b[0m\u001b[0;34m[\u001b[0m\u001b[0;36m0\u001b[0m\u001b[0;34m]\u001b[0m\u001b[0;34m)\u001b[0m \u001b[0;34m-\u001b[0m \u001b[0;36m1\u001b[0m\u001b[0;34m)\u001b[0m\u001b[0;34m]\u001b[0m\u001b[0;34m\u001b[0m\u001b[0;34m\u001b[0m\u001b[0m\n\u001b[1;32m    393\u001b[0m         \u001b[0mattribute_domains\u001b[0m \u001b[0;34m=\u001b[0m \u001b[0mmyutils\u001b[0m\u001b[0;34m.\u001b[0m\u001b[0mget_attribute_domains\u001b[0m\u001b[0;34m(\u001b[0m\u001b[0mtrain\u001b[0m\u001b[0;34m)\u001b[0m\u001b[0;34m\u001b[0m\u001b[0;34m\u001b[0m\u001b[0m\n\u001b[0;32m--> 394\u001b[0;31m         \u001b[0mtree\u001b[0m \u001b[0;34m=\u001b[0m \u001b[0mmyutils\u001b[0m\u001b[0;34m.\u001b[0m\u001b[0mtdidt\u001b[0m\u001b[0;34m(\u001b[0m\u001b[0mtrain\u001b[0m\u001b[0;34m,\u001b[0m \u001b[0mavailable_attributes\u001b[0m\u001b[0;34m,\u001b[0m \u001b[0mattribute_domains\u001b[0m\u001b[0;34m)\u001b[0m\u001b[0;34m\u001b[0m\u001b[0;34m\u001b[0m\u001b[0m\n\u001b[0m\u001b[1;32m    395\u001b[0m         \u001b[0mself\u001b[0m\u001b[0;34m.\u001b[0m\u001b[0mtree\u001b[0m \u001b[0;34m=\u001b[0m \u001b[0mtree\u001b[0m\u001b[0;34m\u001b[0m\u001b[0;34m\u001b[0m\u001b[0m\n\u001b[1;32m    396\u001b[0m \u001b[0;34m\u001b[0m\u001b[0m\n",
      "\u001b[0;32m/home/CPSC322-Final-Project/mysklearn/myutils.py\u001b[0m in \u001b[0;36mtdidt\u001b[0;34m(train, available_attributes, attribute_domains)\u001b[0m\n\u001b[1;32m     82\u001b[0m             \u001b[0;31m# tree[-1] = [\"Leaf\", class_label]\u001b[0m\u001b[0;34m\u001b[0m\u001b[0;34m\u001b[0m\u001b[0;34m\u001b[0m\u001b[0m\n\u001b[1;32m     83\u001b[0m         \u001b[0;32melse\u001b[0m\u001b[0;34m:\u001b[0m \u001b[0;31m# all base cases are false... recurse!!\u001b[0m\u001b[0;34m\u001b[0m\u001b[0;34m\u001b[0m\u001b[0m\n\u001b[0;32m---> 84\u001b[0;31m             \u001b[0msubtree\u001b[0m \u001b[0;34m=\u001b[0m \u001b[0mtdidt\u001b[0m\u001b[0;34m(\u001b[0m\u001b[0mpartition\u001b[0m\u001b[0;34m,\u001b[0m \u001b[0mavailable_attributes\u001b[0m\u001b[0;34m.\u001b[0m\u001b[0mcopy\u001b[0m\u001b[0;34m(\u001b[0m\u001b[0;34m)\u001b[0m\u001b[0;34m,\u001b[0m \u001b[0mattribute_domains\u001b[0m\u001b[0;34m)\u001b[0m\u001b[0;34m\u001b[0m\u001b[0;34m\u001b[0m\u001b[0m\n\u001b[0m\u001b[1;32m     85\u001b[0m             \u001b[0mvalue_subtree\u001b[0m\u001b[0;34m.\u001b[0m\u001b[0mappend\u001b[0m\u001b[0;34m(\u001b[0m\u001b[0msubtree\u001b[0m\u001b[0;34m)\u001b[0m\u001b[0;34m\u001b[0m\u001b[0;34m\u001b[0m\u001b[0m\n\u001b[1;32m     86\u001b[0m             \u001b[0mtree\u001b[0m\u001b[0;34m.\u001b[0m\u001b[0mappend\u001b[0m\u001b[0;34m(\u001b[0m\u001b[0mvalue_subtree\u001b[0m\u001b[0;34m)\u001b[0m\u001b[0;34m\u001b[0m\u001b[0;34m\u001b[0m\u001b[0m\n",
      "\u001b[0;32m/home/CPSC322-Final-Project/mysklearn/myutils.py\u001b[0m in \u001b[0;36mtdidt\u001b[0;34m(train, available_attributes, attribute_domains)\u001b[0m\n\u001b[1;32m     72\u001b[0m             \u001b[0mnum\u001b[0m\u001b[0;34m,\u001b[0m \u001b[0mtotal\u001b[0m \u001b[0;34m=\u001b[0m \u001b[0mget_leaf_occurences\u001b[0m\u001b[0;34m(\u001b[0m\u001b[0mvalue_tracker\u001b[0m\u001b[0;34m,\u001b[0m \u001b[0mtrain\u001b[0m\u001b[0;34m,\u001b[0m \u001b[0msplit_attribute\u001b[0m\u001b[0;34m)\u001b[0m\u001b[0;34m\u001b[0m\u001b[0;34m\u001b[0m\u001b[0m\n\u001b[1;32m     73\u001b[0m             \u001b[0mcounts\u001b[0m \u001b[0;34m=\u001b[0m \u001b[0mcount_item_occurences\u001b[0m\u001b[0;34m(\u001b[0m\u001b[0mprevious_partition\u001b[0m\u001b[0;34m)\u001b[0m\u001b[0;34m\u001b[0m\u001b[0;34m\u001b[0m\u001b[0m\n\u001b[0;32m---> 74\u001b[0;31m             \u001b[0mclass_label\u001b[0m \u001b[0;34m=\u001b[0m \u001b[0mget_class_label\u001b[0m\u001b[0;34m(\u001b[0m\u001b[0mcounts\u001b[0m\u001b[0;34m)\u001b[0m\u001b[0;34m\u001b[0m\u001b[0;34m\u001b[0m\u001b[0m\n\u001b[0m\u001b[1;32m     75\u001b[0m             \u001b[0mtree\u001b[0m \u001b[0;34m=\u001b[0m \u001b[0;34m[\u001b[0m\u001b[0;34m]\u001b[0m\u001b[0;34m\u001b[0m\u001b[0;34m\u001b[0m\u001b[0m\n\u001b[1;32m     76\u001b[0m             \u001b[0;31m# use current instances\u001b[0m\u001b[0;34m\u001b[0m\u001b[0;34m\u001b[0m\u001b[0;34m\u001b[0m\u001b[0m\n",
      "\u001b[0;32m/home/CPSC322-Final-Project/mysklearn/myutils.py\u001b[0m in \u001b[0;36mget_class_label\u001b[0;34m(counts)\u001b[0m\n\u001b[1;32m    282\u001b[0m     \u001b[0;32mfor\u001b[0m \u001b[0mlabel\u001b[0m \u001b[0;32min\u001b[0m \u001b[0mcounts\u001b[0m\u001b[0;34m:\u001b[0m\u001b[0;34m\u001b[0m\u001b[0;34m\u001b[0m\u001b[0m\n\u001b[1;32m    283\u001b[0m         \u001b[0mcount_list\u001b[0m\u001b[0;34m.\u001b[0m\u001b[0mappend\u001b[0m\u001b[0;34m(\u001b[0m\u001b[0mlabel\u001b[0m\u001b[0;34m[\u001b[0m\u001b[0;36m1\u001b[0m\u001b[0;34m]\u001b[0m\u001b[0;34m)\u001b[0m\u001b[0;34m\u001b[0m\u001b[0;34m\u001b[0m\u001b[0m\n\u001b[0;32m--> 284\u001b[0;31m     \u001b[0mall_same\u001b[0m \u001b[0;34m=\u001b[0m \u001b[0mcount_list\u001b[0m\u001b[0;34m.\u001b[0m\u001b[0mcount\u001b[0m\u001b[0;34m(\u001b[0m\u001b[0mcount_list\u001b[0m\u001b[0;34m[\u001b[0m\u001b[0;36m0\u001b[0m\u001b[0;34m]\u001b[0m\u001b[0;34m)\u001b[0m \u001b[0;34m==\u001b[0m \u001b[0mlen\u001b[0m\u001b[0;34m(\u001b[0m\u001b[0mcount_list\u001b[0m\u001b[0;34m)\u001b[0m\u001b[0;34m\u001b[0m\u001b[0;34m\u001b[0m\u001b[0m\n\u001b[0m\u001b[1;32m    285\u001b[0m     \u001b[0;32mif\u001b[0m \u001b[0mall_same\u001b[0m\u001b[0;34m:\u001b[0m\u001b[0;34m\u001b[0m\u001b[0;34m\u001b[0m\u001b[0m\n\u001b[1;32m    286\u001b[0m         \u001b[0mchoice\u001b[0m \u001b[0;34m=\u001b[0m \u001b[0mrandom\u001b[0m\u001b[0;34m.\u001b[0m\u001b[0mrandint\u001b[0m\u001b[0;34m(\u001b[0m\u001b[0;36m0\u001b[0m\u001b[0;34m,\u001b[0m \u001b[0;36m1\u001b[0m\u001b[0;34m)\u001b[0m\u001b[0;34m\u001b[0m\u001b[0;34m\u001b[0m\u001b[0m\n",
      "\u001b[0;31mIndexError\u001b[0m: list index out of range"
     ]
    }
   ],
   "source": [
    "import importlib\n",
    "import utils \n",
    "importlib.reload(utils)\n",
    "import mysklearn.myutils\n",
    "importlib.reload(mysklearn.myutils)\n",
    "import mysklearn.myutils as myutils\n",
    "import plot_utils\n",
    "importlib.reload(plot_utils)\n",
    "import mysklearn.mypytable\n",
    "importlib.reload(mysklearn.mypytable)\n",
    "from mysklearn.mypytable import MyPyTable \n",
    "import mysklearn.myevaluation\n",
    "importlib.reload(mysklearn.myevaluation)\n",
    "import mysklearn.myevaluation as myevaluation\n",
    "import mysklearn.myclassifiers\n",
    "importlib.reload(mysklearn.myclassifiers)\n",
    "from mysklearn.myclassifiers import MyKNeighborsClassifier, MySimpleLinearRegressor, MyNaiveBayesClassifier, MyRandomClassifier, MyZeroRClassifier, MyDecisionTreeClassifier\n",
    "from tabulate import tabulate\n",
    "\n",
    "music_table = MyPyTable()\n",
    "music_fname = os.path.join(\"input_data\", \"music-data.csv\")\n",
    "music_table.load_from_file(music_fname)\n",
    "\n",
    "music_data = music_table.data.copy()\n",
    "del_list = [0, 0, 2]\n",
    "for j in music_data:\n",
    "    for i in del_list:\n",
    "        del j[i]\n",
    "# do holdout method on dataset - put testing set aside\n",
    "# remainder set has 2/3 of original\n",
    "# train n ensemble learners of subset of remainder set\n",
    "header = [\"level\", \"lang\", \"tweets\", \"phd\", \"interviewed_well\"]\n",
    "table = [\n",
    "    [\"Senior\", \"Java\", \"no\", \"no\", \"False\"],\n",
    "    [\"Senior\", \"Java\", \"no\", \"yes\", \"False\"],\n",
    "    [\"Mid\", \"Python\", \"no\", \"no\", \"True\"],\n",
    "    [\"Junior\", \"Python\", \"no\", \"no\", \"True\"],\n",
    "    [\"Junior\", \"R\", \"yes\", \"no\", \"True\"],\n",
    "    [\"Junior\", \"R\", \"yes\", \"yes\", \"False\"],\n",
    "    [\"Mid\", \"R\", \"yes\", \"yes\", \"True\"],\n",
    "    [\"Senior\", \"Python\", \"no\", \"no\", \"False\"],\n",
    "    [\"Senior\", \"R\", \"yes\", \"no\", \"True\"],\n",
    "    [\"Junior\", \"Python\", \"yes\", \"no\", \"True\"],\n",
    "    [\"Senior\", \"Python\", \"yes\", \"yes\", \"True\"],\n",
    "    [\"Mid\", \"Python\", \"no\", \"yes\", \"True\"],\n",
    "    [\"Mid\", \"Java\", \"yes\", \"no\", \"True\"],\n",
    "    [\"Junior\", \"Python\", \"no\", \"yes\", \"False\"]\n",
    "]\n",
    "\n",
    "for i, value in enumerate(music_data):\n",
    "    if value[0] <= 10:\n",
    "        value[0] = 1\n",
    "    elif value[0] > 10 and value[0] <= 20:\n",
    "        value[0] = 2\n",
    "    elif value[0] > 20 and value[0] <= 30:\n",
    "        value[0] = 3\n",
    "    elif value[0] > 30 and value[0] <= 40:\n",
    "        value[0] = 4\n",
    "    elif value[0] > 40 and value[0] <= 50:\n",
    "        value[0] = 5\n",
    "    elif value[0] > 50 and value[0] <= 60:\n",
    "        value[0] = 6\n",
    "    elif value[0] > 60 and value[0] <= 70:\n",
    "        value[0] = 7\n",
    "    elif value[0] > 70 and value[0] <= 80:\n",
    "        value[0] = 8\n",
    "    elif value[0] > 80 and value[0] <= 90:\n",
    "        value[0] = 9\n",
    "    elif value[0] > 90:\n",
    "        value[0] = 10\n",
    "\n",
    "\n",
    "# music_table.data = table\n",
    "# music_table.column_names = header\n",
    "dec_tree = MyDecisionTreeClassifier()\n",
    "label_list = []\n",
    "for val in music_table.column_names:\n",
    "    if val not in label_list:\n",
    "        label_list.append(val)\n",
    "m_labels, m_table = myutils.get_train_labels(music_data, 0)\n",
    "X_train, X_test, y_train, y_test = myevaluation.train_test_split(m_table, m_labels)\n",
    "# # myevaluation.stratified_kfold_cross_validation(X_train, X_test)\n",
    "print(X_train[0])\n",
    "print(\"\\n\", y_train[0])\n",
    "# dec_tree.fit(X_train, y_train)\n",
    "# print(dec_tree.tree)\n",
    "# y_pred_list = dec_tree.predict(X_test)\n",
    "# matrix = myevaluation.confusion_matrix(y_test, y_pred_list, label_list)\n",
    "# for i, val in enumerate(matrix):\n",
    "#     val.insert(0, label_list[i])\n",
    "\n",
    "# print(\"===========================================\")\n",
    "# print(\"Titanic Data - Decision Tree Results\")\n",
    "# print(\"===========================================\")\n",
    "# print(tabulate(matrix, headers = label_list))\n",
    "# accuracy = myutils.compute_accuracy(matrix)\n",
    "# print(\"Accuracy = \", accuracy)\n",
    "# error_rate = myutils.compute_error_rate(matrix)\n",
    "# print(\"Error Rate = \", error_rate)\n",
    "\n",
    "\n",
    "\n",
    "\n",
    "\n"
   ]
  },
  {
   "cell_type": "code",
   "execution_count": null,
   "metadata": {},
   "outputs": [],
   "source": []
  }
 ],
 "metadata": {
  "kernelspec": {
   "name": "python385jvsc74a57bd098b0a9b7b4eaaa670588a142fd0a9b87eaafe866f1db4228be72b4211d12040f",
   "display_name": "Python 3.8.5 64-bit ('base': conda)"
  },
  "language_info": {
   "codemirror_mode": {
    "name": "ipython",
    "version": 3
   },
   "file_extension": ".py",
   "mimetype": "text/x-python",
   "name": "python",
   "nbconvert_exporter": "python",
   "pygments_lexer": "ipython3",
   "version": "3.8.5"
  }
 },
 "nbformat": 4,
 "nbformat_minor": 4
}