{
 "cells": [
  {
   "cell_type": "markdown",
   "metadata": {},
   "source": [
    "# Project Proposal\n",
    "Kyle Pavey and Adam Lee  \n",
    "## Dataset description: \n",
    "We will be using the Spotify API with the following objects:\n",
    "- AlbumObject\n",
    "- ArtistObject\n",
    "- AudioFeaturesObject\n",
    "- FollowersObject\n",
    "- TrackObject \n",
    "\n",
    "We are trying to predict the popularity of a random music track given information about the artist, album, and track audio features. The popularity value will be in the same format as Spotify's popularity attribute (the total number of plays the track has).\n",
    "We will use the following attributes:\n",
    "\n",
    "- Album genre\n",
    "- Artist popularity \n",
    "- Number of followers \n",
    "- \"Danceability\"\n",
    "- \"Acousticness\" \n",
    "- Duration\n",
    "- Tempo\n",
    "    \n",
    "## Implementation/technical merit:\n",
    "There is extensive data that might be difficult to manage.  Luckily Spotify provides an id for each object that will allow us to keep track of each individual instance of an object and its relationship with the other object instances.  Some tracks or artists might not have all of the attributes that we have selected.  Generating the large amount of data to predict on might be a challenge as well considering that we will need to use an API request for each value.  \n",
    "    \n",
    "## Potential impact of the results\n",
    "In today's musical climate, it seems like anybody can make a viral song. \n",
    "Our results are useful because it gives some concerete data and insight into \n",
    "what makes a song popular. Artists and songwriters wanting to keep up with trends\n",
    "can stay relevant thanks to our project. Potential stakeholders are artists, record labels, or anybody in the music industry. All these groups would be interested in our metrics and\n",
    "popularity prediction.\n",
    "\n",
    "\n",
    "\n"
   ]
  }
 ],
 "metadata": {
  "kernelspec": {
   "display_name": "Python 3",
   "language": "python",
   "name": "python3"
  },
  "language_info": {
   "codemirror_mode": {
    "name": "ipython",
    "version": 3
   },
   "file_extension": ".py",
   "mimetype": "text/x-python",
   "name": "python",
   "nbconvert_exporter": "python",
   "pygments_lexer": "ipython3",
   "version": "3.8.5-final"
  }
 },
 "nbformat": 4,
 "nbformat_minor": 4
}